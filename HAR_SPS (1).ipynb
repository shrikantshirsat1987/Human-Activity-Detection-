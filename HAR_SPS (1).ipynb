{
 "cells": [
  {
   "cell_type": "code",
   "execution_count": 0,
   "metadata": {
    "colab": {},
    "colab_type": "code",
    "id": "SKdSCfnHMcn4"
   },
   "outputs": [],
   "source": []
  },
  {
   "cell_type": "code",
   "execution_count": 1,
   "metadata": {
    "colab": {
     "base_uri": "https://localhost:8080/",
     "height": 34
    },
    "colab_type": "code",
    "id": "A45JAck7Md7D",
    "outputId": "a48f1251-504f-4722-f0e7-f0ae8a222cae"
   },
   "outputs": [
    {
     "name": "stdout",
     "output_type": "stream",
     "text": [
      "Drive already mounted at /content/drive; to attempt to forcibly remount, call drive.mount(\"/content/drive\", force_remount=True).\n"
     ]
    }
   ],
   "source": [
    "# Load the Drive helper and mount\n",
    "from google.colab import drive\n",
    "\n",
    "# This will prompt for authorization.\n",
    "drive.mount('/content/drive')"
   ]
  },
  {
   "cell_type": "code",
   "execution_count": 2,
   "metadata": {
    "colab": {
     "base_uri": "https://localhost:8080/",
     "height": 462
    },
    "colab_type": "code",
    "id": "q7rbodBib-52",
    "outputId": "500a5470-2183-49e0-afa4-96bea0f18918"
   },
   "outputs": [
    {
     "name": "stderr",
     "output_type": "stream",
     "text": [
      "Using TensorFlow backend.\n",
      "/usr/local/lib/python3.6/dist-packages/tensorflow/python/framework/dtypes.py:516: FutureWarning: Passing (type, 1) or '1type' as a synonym of type is deprecated; in a future version of numpy, it will be understood as (type, (1,)) / '(1,)type'.\n",
      "  _np_qint8 = np.dtype([(\"qint8\", np.int8, 1)])\n",
      "/usr/local/lib/python3.6/dist-packages/tensorflow/python/framework/dtypes.py:517: FutureWarning: Passing (type, 1) or '1type' as a synonym of type is deprecated; in a future version of numpy, it will be understood as (type, (1,)) / '(1,)type'.\n",
      "  _np_quint8 = np.dtype([(\"quint8\", np.uint8, 1)])\n",
      "/usr/local/lib/python3.6/dist-packages/tensorflow/python/framework/dtypes.py:518: FutureWarning: Passing (type, 1) or '1type' as a synonym of type is deprecated; in a future version of numpy, it will be understood as (type, (1,)) / '(1,)type'.\n",
      "  _np_qint16 = np.dtype([(\"qint16\", np.int16, 1)])\n",
      "/usr/local/lib/python3.6/dist-packages/tensorflow/python/framework/dtypes.py:519: FutureWarning: Passing (type, 1) or '1type' as a synonym of type is deprecated; in a future version of numpy, it will be understood as (type, (1,)) / '(1,)type'.\n",
      "  _np_quint16 = np.dtype([(\"quint16\", np.uint16, 1)])\n",
      "/usr/local/lib/python3.6/dist-packages/tensorflow/python/framework/dtypes.py:520: FutureWarning: Passing (type, 1) or '1type' as a synonym of type is deprecated; in a future version of numpy, it will be understood as (type, (1,)) / '(1,)type'.\n",
      "  _np_qint32 = np.dtype([(\"qint32\", np.int32, 1)])\n",
      "/usr/local/lib/python3.6/dist-packages/tensorflow/python/framework/dtypes.py:525: FutureWarning: Passing (type, 1) or '1type' as a synonym of type is deprecated; in a future version of numpy, it will be understood as (type, (1,)) / '(1,)type'.\n",
      "  np_resource = np.dtype([(\"resource\", np.ubyte, 1)])\n",
      "/usr/local/lib/python3.6/dist-packages/tensorboard/compat/tensorflow_stub/dtypes.py:541: FutureWarning: Passing (type, 1) or '1type' as a synonym of type is deprecated; in a future version of numpy, it will be understood as (type, (1,)) / '(1,)type'.\n",
      "  _np_qint8 = np.dtype([(\"qint8\", np.int8, 1)])\n",
      "/usr/local/lib/python3.6/dist-packages/tensorboard/compat/tensorflow_stub/dtypes.py:542: FutureWarning: Passing (type, 1) or '1type' as a synonym of type is deprecated; in a future version of numpy, it will be understood as (type, (1,)) / '(1,)type'.\n",
      "  _np_quint8 = np.dtype([(\"quint8\", np.uint8, 1)])\n",
      "/usr/local/lib/python3.6/dist-packages/tensorboard/compat/tensorflow_stub/dtypes.py:543: FutureWarning: Passing (type, 1) or '1type' as a synonym of type is deprecated; in a future version of numpy, it will be understood as (type, (1,)) / '(1,)type'.\n",
      "  _np_qint16 = np.dtype([(\"qint16\", np.int16, 1)])\n",
      "/usr/local/lib/python3.6/dist-packages/tensorboard/compat/tensorflow_stub/dtypes.py:544: FutureWarning: Passing (type, 1) or '1type' as a synonym of type is deprecated; in a future version of numpy, it will be understood as (type, (1,)) / '(1,)type'.\n",
      "  _np_quint16 = np.dtype([(\"quint16\", np.uint16, 1)])\n",
      "/usr/local/lib/python3.6/dist-packages/tensorboard/compat/tensorflow_stub/dtypes.py:545: FutureWarning: Passing (type, 1) or '1type' as a synonym of type is deprecated; in a future version of numpy, it will be understood as (type, (1,)) / '(1,)type'.\n",
      "  _np_qint32 = np.dtype([(\"qint32\", np.int32, 1)])\n",
      "/usr/local/lib/python3.6/dist-packages/tensorboard/compat/tensorflow_stub/dtypes.py:550: FutureWarning: Passing (type, 1) or '1type' as a synonym of type is deprecated; in a future version of numpy, it will be understood as (type, (1,)) / '(1,)type'.\n",
      "  np_resource = np.dtype([(\"resource\", np.ubyte, 1)])\n"
     ]
    }
   ],
   "source": [
    "import pandas as pd\n",
    "import numpy as np\n",
    "# Importing libraries\n",
    "from keras.models import Sequential\n",
    "from keras.layers import LSTM,BatchNormalization, Conv1D, MaxPooling1D , Flatten\n",
    "from keras.layers.core import Dense, Dropout\n",
    "from sklearn.metrics import accuracy_score"
   ]
  },
  {
   "cell_type": "code",
   "execution_count": 0,
   "metadata": {
    "colab": {},
    "colab_type": "code",
    "id": "JfvvUoKdcIuM"
   },
   "outputs": [],
   "source": [
    "def data():\n",
    "    ''' This function is to load the data'''\n",
    "    SIGNALS = [\n",
    "    \"body_acc_x\",\n",
    "    \"body_acc_y\",\n",
    "    \"body_acc_z\",\n",
    "    \"body_gyro_x\",\n",
    "    \"body_gyro_y\",\n",
    "    \"body_gyro_z\",\n",
    "    \"total_acc_x\",\n",
    "    \"total_acc_y\",\n",
    "    \"total_acc_z\"\n",
    "    ]\n",
    "    signals_data = []\n",
    "\n",
    "    for signal in SIGNALS:\n",
    "        filename = f'/content/drive/My Drive/HAR/UCI_HAR_Dataset/train/Inertial Signals/{signal}_train.txt'\n",
    "        signals_data.append(\n",
    "            pd.read_csv(filename, delim_whitespace=True, header=None).to_numpy()\n",
    "        ) \n",
    "    X_train = np.transpose(signals_data, (1, 2, 0))\n",
    "    \n",
    "    signals_data = []\n",
    "\n",
    "    for signal in SIGNALS:\n",
    "        filename = f'/content/drive/My Drive/HAR/UCI_HAR_Dataset/test/Inertial Signals/{signal}_test.txt'\n",
    "        signals_data.append(\n",
    "            pd.read_csv(filename, delim_whitespace=True, header=None).to_numpy()\n",
    "        ) \n",
    "    X_test = np.transpose(signals_data, (1, 2, 0))\n",
    "    \n",
    "    filename = f'/content/drive/My Drive/HAR/UCI_HAR_Dataset/train/y_train.txt'\n",
    "    y = pd.read_csv(filename, delim_whitespace=True, header=None)[0]\n",
    "    Y_train = pd.get_dummies(y).to_numpy()\n",
    "    \n",
    "    filename = f'/content/drive/My Drive/HAR/UCI_HAR_Dataset/test/y_test.txt'\n",
    "    y = pd.read_csv(filename, delim_whitespace=True, header=None)[0]\n",
    "    Y_test = pd.get_dummies(y).to_numpy()\n",
    "    \n",
    "    return X_train , Y_train , X_test , Y_test"
   ]
  },
  {
   "cell_type": "code",
   "execution_count": 13,
   "metadata": {
    "colab": {
     "base_uri": "https://localhost:8080/",
     "height": 751
    },
    "colab_type": "code",
    "id": "wyEIUDwHt8Vy",
    "outputId": "bba893ee-dd94-4c2d-c121-f7f3aa464573"
   },
   "outputs": [
    {
     "name": "stdout",
     "output_type": "stream",
     "text": [
      "Collecting tensorflow==1.14.0\n",
      "\u001b[?25l  Downloading https://files.pythonhosted.org/packages/de/f0/96fb2e0412ae9692dbf400e5b04432885f677ad6241c088ccc5fe7724d69/tensorflow-1.14.0-cp36-cp36m-manylinux1_x86_64.whl (109.2MB)\n",
      "\u001b[K     |████████████████████████████████| 109.2MB 38kB/s \n",
      "\u001b[?25hRequirement already satisfied: keras-preprocessing>=1.0.5 in /usr/local/lib/python3.6/dist-packages (from tensorflow==1.14.0) (1.1.0)\n",
      "Requirement already satisfied: google-pasta>=0.1.6 in /usr/local/lib/python3.6/dist-packages (from tensorflow==1.14.0) (0.2.0)\n",
      "Requirement already satisfied: grpcio>=1.8.6 in /usr/local/lib/python3.6/dist-packages (from tensorflow==1.14.0) (1.28.1)\n",
      "Collecting tensorboard<1.15.0,>=1.14.0\n",
      "\u001b[?25l  Downloading https://files.pythonhosted.org/packages/91/2d/2ed263449a078cd9c8a9ba50ebd50123adf1f8cfbea1492f9084169b89d9/tensorboard-1.14.0-py3-none-any.whl (3.1MB)\n",
      "\u001b[K     |████████████████████████████████| 3.2MB 51.8MB/s \n",
      "\u001b[?25hRequirement already satisfied: wrapt>=1.11.1 in /usr/local/lib/python3.6/dist-packages (from tensorflow==1.14.0) (1.12.1)\n",
      "Requirement already satisfied: wheel>=0.26 in /usr/local/lib/python3.6/dist-packages (from tensorflow==1.14.0) (0.34.2)\n",
      "Requirement already satisfied: six>=1.10.0 in /usr/local/lib/python3.6/dist-packages (from tensorflow==1.14.0) (1.12.0)\n",
      "Collecting tensorflow-estimator<1.15.0rc0,>=1.14.0rc0\n",
      "\u001b[?25l  Downloading https://files.pythonhosted.org/packages/3c/d5/21860a5b11caf0678fbc8319341b0ae21a07156911132e0e71bffed0510d/tensorflow_estimator-1.14.0-py2.py3-none-any.whl (488kB)\n",
      "\u001b[K     |████████████████████████████████| 491kB 50.9MB/s \n",
      "\u001b[?25hRequirement already satisfied: protobuf>=3.6.1 in /usr/local/lib/python3.6/dist-packages (from tensorflow==1.14.0) (3.10.0)\n",
      "Requirement already satisfied: absl-py>=0.7.0 in /usr/local/lib/python3.6/dist-packages (from tensorflow==1.14.0) (0.9.0)\n",
      "Requirement already satisfied: gast>=0.2.0 in /usr/local/lib/python3.6/dist-packages (from tensorflow==1.14.0) (0.3.3)\n",
      "Requirement already satisfied: keras-applications>=1.0.6 in /usr/local/lib/python3.6/dist-packages (from tensorflow==1.14.0) (1.0.8)\n",
      "Requirement already satisfied: termcolor>=1.1.0 in /usr/local/lib/python3.6/dist-packages (from tensorflow==1.14.0) (1.1.0)\n",
      "Requirement already satisfied: numpy<2.0,>=1.14.5 in /usr/local/lib/python3.6/dist-packages (from tensorflow==1.14.0) (1.18.3)\n",
      "Requirement already satisfied: astor>=0.6.0 in /usr/local/lib/python3.6/dist-packages (from tensorflow==1.14.0) (0.8.1)\n",
      "Requirement already satisfied: markdown>=2.6.8 in /usr/local/lib/python3.6/dist-packages (from tensorboard<1.15.0,>=1.14.0->tensorflow==1.14.0) (3.2.1)\n",
      "Requirement already satisfied: werkzeug>=0.11.15 in /usr/local/lib/python3.6/dist-packages (from tensorboard<1.15.0,>=1.14.0->tensorflow==1.14.0) (1.0.1)\n",
      "Requirement already satisfied: setuptools>=41.0.0 in /usr/local/lib/python3.6/dist-packages (from tensorboard<1.15.0,>=1.14.0->tensorflow==1.14.0) (46.1.3)\n",
      "Requirement already satisfied: h5py in /usr/local/lib/python3.6/dist-packages (from keras-applications>=1.0.6->tensorflow==1.14.0) (2.10.0)\n",
      "Installing collected packages: tensorboard, tensorflow-estimator, tensorflow\n",
      "  Found existing installation: tensorboard 2.2.1\n",
      "    Uninstalling tensorboard-2.2.1:\n",
      "      Successfully uninstalled tensorboard-2.2.1\n",
      "  Found existing installation: tensorflow-estimator 2.2.0\n",
      "    Uninstalling tensorflow-estimator-2.2.0:\n",
      "      Successfully uninstalled tensorflow-estimator-2.2.0\n",
      "  Found existing installation: tensorflow 2.2.0rc4\n",
      "    Uninstalling tensorflow-2.2.0rc4:\n",
      "      Successfully uninstalled tensorflow-2.2.0rc4\n",
      "Successfully installed tensorboard-1.14.0 tensorflow-1.14.0 tensorflow-estimator-1.14.0\n"
     ]
    },
    {
     "data": {
      "application/vnd.colab-display-data+json": {
       "pip_warning": {
        "packages": [
         "tensorboard",
         "tensorflow"
        ]
       }
      }
     },
     "metadata": {
      "tags": []
     },
     "output_type": "display_data"
    }
   ],
   "source": [
    "!pip install tensorflow==1.14.0"
   ]
  },
  {
   "cell_type": "code",
   "execution_count": 0,
   "metadata": {
    "colab": {},
    "colab_type": "code",
    "id": "f2YvzHwAc8Qb"
   },
   "outputs": [],
   "source": [
    "# Importing tensorflow\n",
    "np.random.seed(42)\n",
    "import tensorflow as tf\n",
    "tf.set_random_seed(42)"
   ]
  },
  {
   "cell_type": "code",
   "execution_count": 0,
   "metadata": {
    "colab": {},
    "colab_type": "code",
    "id": "Kn-1QkLPdCxg"
   },
   "outputs": [],
   "source": [
    "# Configuring a session\n",
    "session_conf = tf.ConfigProto(\n",
    "    intra_op_parallelism_threads=1,\n",
    "    inter_op_parallelism_threads=1\n",
    ")"
   ]
  },
  {
   "cell_type": "code",
   "execution_count": 0,
   "metadata": {
    "colab": {},
    "colab_type": "code",
    "id": "p8HfaB5xdHCr"
   },
   "outputs": [],
   "source": [
    "# Import Keras\n",
    "from keras import backend as K\n",
    "sess = tf.Session(graph=tf.get_default_graph(), config=session_conf)\n",
    "K.set_session(sess)"
   ]
  },
  {
   "cell_type": "code",
   "execution_count": 0,
   "metadata": {
    "colab": {},
    "colab_type": "code",
    "id": "34wzaj-EdJz9"
   },
   "outputs": [],
   "source": [
    "# Initializing parameters\n",
    "epochs = 30\n",
    "batch_size = 32\n",
    "n_hidden = 32"
   ]
  },
  {
   "cell_type": "code",
   "execution_count": 0,
   "metadata": {
    "colab": {},
    "colab_type": "code",
    "id": "IHuUnX9edMrL"
   },
   "outputs": [],
   "source": [
    "# Loading the train and test data\n",
    "X_train, Y_train,X_test, Y_test = data()"
   ]
  },
  {
   "cell_type": "code",
   "execution_count": 10,
   "metadata": {
    "colab": {
     "base_uri": "https://localhost:8080/",
     "height": 68
    },
    "colab_type": "code",
    "id": "tTBHLti9dPka",
    "outputId": "c01b3052-6ae9-4a6b-fc85-771790730c79"
   },
   "outputs": [
    {
     "name": "stdout",
     "output_type": "stream",
     "text": [
      "128\n",
      "9\n",
      "7352\n"
     ]
    }
   ],
   "source": [
    "timesteps = len(X_train[0])\n",
    "input_dim = len(X_train[0][0])\n",
    "n_classes = 6\n",
    "\n",
    "print(timesteps)\n",
    "print(input_dim)\n",
    "print(len(X_train))"
   ]
  },
  {
   "cell_type": "code",
   "execution_count": 0,
   "metadata": {
    "colab": {},
    "colab_type": "code",
    "id": "vG0RtXAYe3ny"
   },
   "outputs": [],
   "source": [
    "# Activities are the class labels\n",
    "# It is a 6 class classification\n",
    "ACTIVITIES = {\n",
    "    0: 'WALKING',\n",
    "    1: 'WALKING_UPSTAIRS',\n",
    "    2: 'WALKING_DOWNSTAIRS',\n",
    "    3: 'SITTING',\n",
    "    4: 'STANDING',\n",
    "    5: 'LAYING',\n",
    "}\n",
    "\n",
    "# Utility function to print the confusion matrix\n",
    "def confusion_matrix(Y_true, Y_pred):\n",
    "    Y_true = pd.Series([ACTIVITIES[y] for y in np.argmax(Y_true, axis=1)])\n",
    "    Y_pred = pd.Series([ACTIVITIES[y] for y in np.argmax(Y_pred, axis=1)])\n",
    "\n",
    "    return pd.crosstab(Y_true, Y_pred, rownames=['True'], colnames=['Pred'])"
   ]
  },
  {
   "cell_type": "code",
   "execution_count": 12,
   "metadata": {
    "colab": {
     "base_uri": "https://localhost:8080/",
     "height": 255
    },
    "colab_type": "code",
    "id": "ESTO74rGe77u",
    "outputId": "2238aada-98d6-463a-a0d2-a6471fbc3f23"
   },
   "outputs": [
    {
     "name": "stdout",
     "output_type": "stream",
     "text": [
      "Model: \"sequential_1\"\n",
      "_________________________________________________________________\n",
      "Layer (type)                 Output Shape              Param #   \n",
      "=================================================================\n",
      "lstm_1 (LSTM)                (None, 32)                5376      \n",
      "_________________________________________________________________\n",
      "dropout_1 (Dropout)          (None, 32)                0         \n",
      "_________________________________________________________________\n",
      "dense_1 (Dense)              (None, 6)                 198       \n",
      "=================================================================\n",
      "Total params: 5,574\n",
      "Trainable params: 5,574\n",
      "Non-trainable params: 0\n",
      "_________________________________________________________________\n"
     ]
    }
   ],
   "source": [
    "# Initiliazing the sequential model\n",
    "model_1 = Sequential()\n",
    "# Configuring the parameters\n",
    "model_1.add(LSTM(n_hidden, input_shape=(timesteps, input_dim)))\n",
    "# Adding a dropout layer\n",
    "model_1.add(Dropout(0.5))\n",
    "# Adding a dense output layer with sigmoid activation\n",
    "model_1.add(Dense(n_classes, activation='sigmoid'))\n",
    "model_1.summary()"
   ]
  },
  {
   "cell_type": "code",
   "execution_count": 0,
   "metadata": {
    "colab": {},
    "colab_type": "code",
    "id": "vEo6E31Xe_xf"
   },
   "outputs": [],
   "source": [
    "# Compiling the model\n",
    "model_1.compile(loss='categorical_crossentropy',\n",
    "              optimizer='rmsprop',\n",
    "              metrics=['accuracy'])"
   ]
  },
  {
   "cell_type": "code",
   "execution_count": 14,
   "metadata": {
    "colab": {
     "base_uri": "https://localhost:8080/",
     "height": 1000
    },
    "colab_type": "code",
    "id": "N5FC8zlWfIP7",
    "outputId": "6dd800e2-d59e-4344-b476-e32b72950c57"
   },
   "outputs": [
    {
     "name": "stdout",
     "output_type": "stream",
     "text": [
      "WARNING:tensorflow:From /usr/local/lib/python3.6/dist-packages/tensorflow/python/ops/math_grad.py:1250: add_dispatch_support.<locals>.wrapper (from tensorflow.python.ops.array_ops) is deprecated and will be removed in a future version.\n",
      "Instructions for updating:\n",
      "Use tf.where in 2.0, which has the same broadcast rule as np.where\n",
      "WARNING:tensorflow:From /usr/local/lib/python3.6/dist-packages/keras/backend/tensorflow_backend.py:422: The name tf.global_variables is deprecated. Please use tf.compat.v1.global_variables instead.\n",
      "\n",
      "Train on 7352 samples, validate on 2947 samples\n",
      "Epoch 1/30\n",
      "7352/7352 [==============================] - 9s 1ms/step - loss: 1.3955 - accuracy: 0.4264 - val_loss: 1.2273 - val_accuracy: 0.4581\n",
      "Epoch 2/30\n",
      "7352/7352 [==============================] - 9s 1ms/step - loss: 1.0696 - accuracy: 0.5386 - val_loss: 1.0074 - val_accuracy: 0.5351\n",
      "Epoch 3/30\n",
      "7352/7352 [==============================] - 8s 1ms/step - loss: 0.9063 - accuracy: 0.6197 - val_loss: 0.8869 - val_accuracy: 0.6583\n",
      "Epoch 4/30\n",
      "7352/7352 [==============================] - 9s 1ms/step - loss: 0.7980 - accuracy: 0.6561 - val_loss: 0.7894 - val_accuracy: 0.6597\n",
      "Epoch 5/30\n",
      "7352/7352 [==============================] - 9s 1ms/step - loss: 0.7093 - accuracy: 0.6889 - val_loss: 0.7317 - val_accuracy: 0.6678\n",
      "Epoch 6/30\n",
      "7352/7352 [==============================] - 9s 1ms/step - loss: 0.6791 - accuracy: 0.6961 - val_loss: 0.8133 - val_accuracy: 0.6753\n",
      "Epoch 7/30\n",
      "7352/7352 [==============================] - 10s 1ms/step - loss: 0.6135 - accuracy: 0.7329 - val_loss: 0.9543 - val_accuracy: 0.6702\n",
      "Epoch 8/30\n",
      "7352/7352 [==============================] - 10s 1ms/step - loss: 0.5861 - accuracy: 0.7504 - val_loss: 0.7642 - val_accuracy: 0.6420\n",
      "Epoch 9/30\n",
      "7352/7352 [==============================] - 9s 1ms/step - loss: 0.5627 - accuracy: 0.7598 - val_loss: 0.6664 - val_accuracy: 0.7329\n",
      "Epoch 10/30\n",
      "7352/7352 [==============================] - 9s 1ms/step - loss: 0.5240 - accuracy: 0.7780 - val_loss: 0.6347 - val_accuracy: 0.7292\n",
      "Epoch 11/30\n",
      "7352/7352 [==============================] - 9s 1ms/step - loss: 0.4798 - accuracy: 0.7945 - val_loss: 0.7472 - val_accuracy: 0.7109\n",
      "Epoch 12/30\n",
      "7352/7352 [==============================] - 9s 1ms/step - loss: 0.4747 - accuracy: 0.8037 - val_loss: 0.5924 - val_accuracy: 0.7530\n",
      "Epoch 13/30\n",
      "7352/7352 [==============================] - 9s 1ms/step - loss: 0.4561 - accuracy: 0.8135 - val_loss: 0.5607 - val_accuracy: 0.7727\n",
      "Epoch 14/30\n",
      "7352/7352 [==============================] - 9s 1ms/step - loss: 0.4127 - accuracy: 0.8196 - val_loss: 0.6190 - val_accuracy: 0.7696\n",
      "Epoch 15/30\n",
      "7352/7352 [==============================] - 9s 1ms/step - loss: 0.3940 - accuracy: 0.8402 - val_loss: 0.5501 - val_accuracy: 0.8062\n",
      "Epoch 16/30\n",
      "7352/7352 [==============================] - 9s 1ms/step - loss: 0.3573 - accuracy: 0.8735 - val_loss: 0.4941 - val_accuracy: 0.8561\n",
      "Epoch 17/30\n",
      "7352/7352 [==============================] - 9s 1ms/step - loss: 0.3316 - accuracy: 0.8953 - val_loss: 0.6743 - val_accuracy: 0.8168\n",
      "Epoch 18/30\n",
      "7352/7352 [==============================] - 9s 1ms/step - loss: 0.2795 - accuracy: 0.9143 - val_loss: 0.4434 - val_accuracy: 0.8812\n",
      "Epoch 19/30\n",
      "7352/7352 [==============================] - 9s 1ms/step - loss: 0.2485 - accuracy: 0.9245 - val_loss: 0.4934 - val_accuracy: 0.8744\n",
      "Epoch 20/30\n",
      "7352/7352 [==============================] - 9s 1ms/step - loss: 0.2114 - accuracy: 0.9361 - val_loss: 0.4138 - val_accuracy: 0.8914\n",
      "Epoch 21/30\n",
      "7352/7352 [==============================] - 9s 1ms/step - loss: 0.2182 - accuracy: 0.9366 - val_loss: 0.3928 - val_accuracy: 0.8758\n",
      "Epoch 22/30\n",
      "7352/7352 [==============================] - 9s 1ms/step - loss: 0.2137 - accuracy: 0.9351 - val_loss: 0.5964 - val_accuracy: 0.8592\n",
      "Epoch 23/30\n",
      "7352/7352 [==============================] - 9s 1ms/step - loss: 0.2167 - accuracy: 0.9374 - val_loss: 0.6448 - val_accuracy: 0.8544\n",
      "Epoch 24/30\n",
      "7352/7352 [==============================] - 9s 1ms/step - loss: 0.2094 - accuracy: 0.9344 - val_loss: 0.5202 - val_accuracy: 0.8707\n",
      "Epoch 25/30\n",
      "7352/7352 [==============================] - 9s 1ms/step - loss: 0.1840 - accuracy: 0.9408 - val_loss: 0.6106 - val_accuracy: 0.8643\n",
      "Epoch 26/30\n",
      "7352/7352 [==============================] - 9s 1ms/step - loss: 0.1826 - accuracy: 0.9440 - val_loss: 0.4237 - val_accuracy: 0.8914\n",
      "Epoch 27/30\n",
      "7352/7352 [==============================] - 9s 1ms/step - loss: 0.1784 - accuracy: 0.9429 - val_loss: 0.4386 - val_accuracy: 0.8951\n",
      "Epoch 28/30\n",
      "7352/7352 [==============================] - 9s 1ms/step - loss: 0.1678 - accuracy: 0.9452 - val_loss: 0.4642 - val_accuracy: 0.8911\n",
      "Epoch 29/30\n",
      "7352/7352 [==============================] - 9s 1ms/step - loss: 0.1661 - accuracy: 0.9423 - val_loss: 0.5052 - val_accuracy: 0.8924\n",
      "Epoch 30/30\n",
      "7352/7352 [==============================] - 9s 1ms/step - loss: 0.1626 - accuracy: 0.9457 - val_loss: 0.5120 - val_accuracy: 0.8948\n"
     ]
    },
    {
     "data": {
      "text/plain": [
       "<keras.callbacks.callbacks.History at 0x7f46cdf55b70>"
      ]
     },
     "execution_count": 14,
     "metadata": {
      "tags": []
     },
     "output_type": "execute_result"
    }
   ],
   "source": [
    "# Training the model\n",
    "model_1.fit(X_train,\n",
    "          Y_train,\n",
    "          batch_size=batch_size,\n",
    "          validation_data=(X_test, Y_test),\n",
    "          epochs=epochs)"
   ]
  },
  {
   "cell_type": "code",
   "execution_count": 15,
   "metadata": {
    "colab": {
     "base_uri": "https://localhost:8080/",
     "height": 51
    },
    "colab_type": "code",
    "id": "IzzB_s3OfL_A",
    "outputId": "debd83c5-237a-41e6-cf62-18335a1756b5"
   },
   "outputs": [
    {
     "name": "stdout",
     "output_type": "stream",
     "text": [
      "2947/2947 [==============================] - 1s 263us/step\n"
     ]
    },
    {
     "data": {
      "text/plain": [
       "[0.5119841206115033, 0.894808292388916]"
      ]
     },
     "execution_count": 15,
     "metadata": {
      "tags": []
     },
     "output_type": "execute_result"
    }
   ],
   "source": [
    "model_1.evaluate(X_test, Y_test)"
   ]
  },
  {
   "cell_type": "code",
   "execution_count": 16,
   "metadata": {
    "colab": {
     "base_uri": "https://localhost:8080/",
     "height": 187
    },
    "colab_type": "code",
    "id": "v0Bsyj1sgX8t",
    "outputId": "043b1402-46f6-4dd5-a338-242b18f280d6"
   },
   "outputs": [
    {
     "name": "stdout",
     "output_type": "stream",
     "text": [
      "Pred                LAYING  SITTING  ...  WALKING_DOWNSTAIRS  WALKING_UPSTAIRS\n",
      "True                                 ...                                      \n",
      "LAYING                  77       97  ...                  62                91\n",
      "SITTING                 58       41  ...                  77               133\n",
      "STANDING                75       48  ...                 128                63\n",
      "WALKING                 94      133  ...                  74                92\n",
      "WALKING_DOWNSTAIRS     120       83  ...                  29                90\n",
      "WALKING_UPSTAIRS        86       73  ...                  69                59\n",
      "\n",
      "[6 rows x 6 columns]\n"
     ]
    }
   ],
   "source": [
    "# Confusion Matrix\n",
    "print(confusion_matrix(Y_train, model_1.predict(X_test)))"
   ]
  },
  {
   "cell_type": "markdown",
   "metadata": {
    "colab_type": "text",
    "id": "WI2-KZDlgh5f"
   },
   "source": [
    "We will be breaking the train data into static and dynamic activities. For that we change the labels of the train data as 1 for dynamic activities and 0 for static activities.\n",
    "\n"
   ]
  },
  {
   "cell_type": "code",
   "execution_count": 0,
   "metadata": {
    "colab": {},
    "colab_type": "code",
    "id": "yDab98MTgckk"
   },
   "outputs": [],
   "source": [
    "filename = f'/content/drive/My Drive/HAR/UCI_HAR_Dataset/train/y_train.txt'\n",
    "y = pd.read_csv(filename, delim_whitespace=True, header=None)[0]\n",
    "y_train = y.map({1:1,2:1, 3:1,\\\n",
    "                       4:0, 5:0,6:0})"
   ]
  },
  {
   "cell_type": "code",
   "execution_count": 0,
   "metadata": {
    "colab": {},
    "colab_type": "code",
    "id": "oNBx_x9EgyQe"
   },
   "outputs": [],
   "source": [
    "filename = f'/content/drive/My Drive/HAR/UCI_HAR_Dataset/test/y_test.txt'\n",
    "y = pd.read_csv(filename, delim_whitespace=True, header=None)[0]\n",
    "y_test = y.map({1:1,2:1, 3:1,\\\n",
    "                       4:0, 5:0,6:0})"
   ]
  },
  {
   "cell_type": "code",
   "execution_count": 19,
   "metadata": {
    "colab": {
     "base_uri": "https://localhost:8080/",
     "height": 68
    },
    "colab_type": "code",
    "id": "MxHGoSiLhG8d",
    "outputId": "ad496477-1e2f-4004-d047-4d8f39215551"
   },
   "outputs": [
    {
     "data": {
      "text/plain": [
       "0    1560\n",
       "1    1387\n",
       "Name: 0, dtype: int64"
      ]
     },
     "execution_count": 19,
     "metadata": {
      "tags": []
     },
     "output_type": "execute_result"
    }
   ],
   "source": [
    "y_test.value_counts()"
   ]
  },
  {
   "cell_type": "code",
   "execution_count": 20,
   "metadata": {
    "colab": {
     "base_uri": "https://localhost:8080/",
     "height": 255
    },
    "colab_type": "code",
    "id": "Ww-PYJ6KhK-i",
    "outputId": "22c4974c-d689-4ec2-c186-66c9bb1fcc6c"
   },
   "outputs": [
    {
     "name": "stdout",
     "output_type": "stream",
     "text": [
      "Model: \"sequential_2\"\n",
      "_________________________________________________________________\n",
      "Layer (type)                 Output Shape              Param #   \n",
      "=================================================================\n",
      "lstm_2 (LSTM)                (None, 32)                5376      \n",
      "_________________________________________________________________\n",
      "dropout_2 (Dropout)          (None, 32)                0         \n",
      "_________________________________________________________________\n",
      "dense_2 (Dense)              (None, 1)                 33        \n",
      "=================================================================\n",
      "Total params: 5,409\n",
      "Trainable params: 5,409\n",
      "Non-trainable params: 0\n",
      "_________________________________________________________________\n"
     ]
    }
   ],
   "source": [
    "#model to break the data into static and dynamic\n",
    "model_s = Sequential()\n",
    "model_s.add(LSTM(32, kernel_initializer='glorot_normal',input_shape=(128,9)))\n",
    "model_s.add(Dropout(0.5))\n",
    "\n",
    "model_s.add(Dense(1, activation='sigmoid',kernel_initializer='glorot_normal'))\n",
    "model_s.summary()"
   ]
  },
  {
   "cell_type": "code",
   "execution_count": 0,
   "metadata": {
    "colab": {},
    "colab_type": "code",
    "id": "U2MLTS_UhPDQ"
   },
   "outputs": [],
   "source": [
    "model_s.compile(loss='binary_crossentropy',\n",
    "              optimizer='adam',\n",
    "              metrics=['accuracy'])"
   ]
  },
  {
   "cell_type": "code",
   "execution_count": 22,
   "metadata": {
    "colab": {
     "base_uri": "https://localhost:8080/",
     "height": 1000
    },
    "colab_type": "code",
    "id": "1vse1IUghTvH",
    "outputId": "3d06dc69-1f30-498c-fee1-9a128c939364"
   },
   "outputs": [
    {
     "name": "stdout",
     "output_type": "stream",
     "text": [
      "Train on 7352 samples, validate on 2947 samples\n",
      "Epoch 1/30\n",
      "7352/7352 [==============================] - 9s 1ms/step - loss: 0.3545 - accuracy: 0.8289 - val_loss: 0.1898 - val_accuracy: 0.9494\n",
      "Epoch 2/30\n",
      "7352/7352 [==============================] - 9s 1ms/step - loss: 0.4493 - accuracy: 0.7716 - val_loss: 0.4969 - val_accuracy: 0.6787\n",
      "Epoch 3/30\n",
      "7352/7352 [==============================] - 9s 1ms/step - loss: 0.2120 - accuracy: 0.9251 - val_loss: 0.1396 - val_accuracy: 0.9647\n",
      "Epoch 4/30\n",
      "7352/7352 [==============================] - 9s 1ms/step - loss: 0.0880 - accuracy: 0.9814 - val_loss: 0.3946 - val_accuracy: 0.9274\n",
      "Epoch 5/30\n",
      "7352/7352 [==============================] - 9s 1ms/step - loss: 0.1928 - accuracy: 0.9445 - val_loss: 0.1454 - val_accuracy: 0.9572\n",
      "Epoch 6/30\n",
      "7352/7352 [==============================] - 9s 1ms/step - loss: 0.0851 - accuracy: 0.9800 - val_loss: 0.1038 - val_accuracy: 0.9766\n",
      "Epoch 7/30\n",
      "7352/7352 [==============================] - 9s 1ms/step - loss: 0.0721 - accuracy: 0.9844 - val_loss: 0.0850 - val_accuracy: 0.9824\n",
      "Epoch 8/30\n",
      "7352/7352 [==============================] - 9s 1ms/step - loss: 0.0687 - accuracy: 0.9882 - val_loss: 0.0789 - val_accuracy: 0.9827\n",
      "Epoch 9/30\n",
      "7352/7352 [==============================] - 9s 1ms/step - loss: 0.0558 - accuracy: 0.9905 - val_loss: 0.0872 - val_accuracy: 0.9817\n",
      "Epoch 10/30\n",
      "7352/7352 [==============================] - 9s 1ms/step - loss: 0.1182 - accuracy: 0.9803 - val_loss: 0.0735 - val_accuracy: 0.9854\n",
      "Epoch 11/30\n",
      "7352/7352 [==============================] - 9s 1ms/step - loss: 0.0631 - accuracy: 0.9871 - val_loss: 0.0581 - val_accuracy: 0.9874\n",
      "Epoch 12/30\n",
      "7352/7352 [==============================] - 9s 1ms/step - loss: 0.0457 - accuracy: 0.9857 - val_loss: 0.0355 - val_accuracy: 0.9919\n",
      "Epoch 13/30\n",
      "7352/7352 [==============================] - 9s 1ms/step - loss: 0.0220 - accuracy: 0.9969 - val_loss: 0.1081 - val_accuracy: 0.9708\n",
      "Epoch 14/30\n",
      "7352/7352 [==============================] - 9s 1ms/step - loss: 0.0367 - accuracy: 0.9920 - val_loss: 0.0288 - val_accuracy: 0.9939\n",
      "Epoch 15/30\n",
      "7352/7352 [==============================] - 9s 1ms/step - loss: 0.0184 - accuracy: 0.9981 - val_loss: 0.0198 - val_accuracy: 0.9963\n",
      "Epoch 16/30\n",
      "7352/7352 [==============================] - 9s 1ms/step - loss: 0.0149 - accuracy: 0.9980 - val_loss: 0.0174 - val_accuracy: 0.9949\n",
      "Epoch 17/30\n",
      "7352/7352 [==============================] - 9s 1ms/step - loss: 0.0101 - accuracy: 0.9978 - val_loss: 0.0255 - val_accuracy: 0.9956\n",
      "Epoch 18/30\n",
      "7352/7352 [==============================] - 9s 1ms/step - loss: 0.0095 - accuracy: 0.9982 - val_loss: 0.0116 - val_accuracy: 0.9973\n",
      "Epoch 19/30\n",
      "7352/7352 [==============================] - 9s 1ms/step - loss: 0.0046 - accuracy: 0.9993 - val_loss: 0.0079 - val_accuracy: 0.9976\n",
      "Epoch 20/30\n",
      "7352/7352 [==============================] - 9s 1ms/step - loss: 0.0042 - accuracy: 0.9993 - val_loss: 0.0117 - val_accuracy: 0.9966\n",
      "Epoch 21/30\n",
      "7352/7352 [==============================] - 9s 1ms/step - loss: 0.0062 - accuracy: 0.9993 - val_loss: 0.0068 - val_accuracy: 0.9980\n",
      "Epoch 22/30\n",
      "7352/7352 [==============================] - 9s 1ms/step - loss: 0.0052 - accuracy: 0.9995 - val_loss: 0.0075 - val_accuracy: 0.9980\n",
      "Epoch 23/30\n",
      "7352/7352 [==============================] - 9s 1ms/step - loss: 0.0026 - accuracy: 0.9997 - val_loss: 0.0147 - val_accuracy: 0.9973\n",
      "Epoch 24/30\n",
      "7352/7352 [==============================] - 9s 1ms/step - loss: 0.0054 - accuracy: 0.9995 - val_loss: 0.0124 - val_accuracy: 0.9973\n",
      "Epoch 25/30\n",
      "7352/7352 [==============================] - 9s 1ms/step - loss: 0.0077 - accuracy: 0.9995 - val_loss: 0.0086 - val_accuracy: 0.9973\n",
      "Epoch 26/30\n",
      "7352/7352 [==============================] - 9s 1ms/step - loss: 0.0045 - accuracy: 0.9995 - val_loss: 0.0085 - val_accuracy: 0.9983\n",
      "Epoch 27/30\n",
      "7352/7352 [==============================] - 9s 1ms/step - loss: 0.0053 - accuracy: 0.9992 - val_loss: 0.0077 - val_accuracy: 0.9980\n",
      "Epoch 28/30\n",
      "7352/7352 [==============================] - 9s 1ms/step - loss: 0.0041 - accuracy: 0.9992 - val_loss: 0.0132 - val_accuracy: 0.9973\n",
      "Epoch 29/30\n",
      "7352/7352 [==============================] - 9s 1ms/step - loss: 0.0066 - accuracy: 0.9990 - val_loss: 0.0071 - val_accuracy: 0.9983\n",
      "Epoch 30/30\n",
      "7352/7352 [==============================] - 9s 1ms/step - loss: 0.0044 - accuracy: 0.9993 - val_loss: 0.0097 - val_accuracy: 0.9983\n"
     ]
    },
    {
     "data": {
      "text/plain": [
       "<keras.callbacks.callbacks.History at 0x7f46cd2538d0>"
      ]
     },
     "execution_count": 22,
     "metadata": {
      "tags": []
     },
     "output_type": "execute_result"
    }
   ],
   "source": [
    "model_s.fit(X_train, y_train, batch_size=32, validation_data=(X_test, y_test),epochs=30)"
   ]
  },
  {
   "cell_type": "code",
   "execution_count": 0,
   "metadata": {
    "colab": {},
    "colab_type": "code",
    "id": "TFELUjqchWak"
   },
   "outputs": [],
   "source": [
    "y_pred_test = model_s.predict(X_test)\n",
    "y_pred=[]\n",
    "for i in y_pred_test:\n",
    "    if i>0.5:                             #converting into 0 and 1 for the threshold 0.5\n",
    "      y_pred.append(1)\n",
    "    else:\n",
    "      y_pred.append(0)"
   ]
  },
  {
   "cell_type": "code",
   "execution_count": 24,
   "metadata": {
    "colab": {
     "base_uri": "https://localhost:8080/",
     "height": 34
    },
    "colab_type": "code",
    "id": "ajQTPOAghsVp",
    "outputId": "d399feef-e810-4c69-913d-fa212050d960"
   },
   "outputs": [
    {
     "data": {
      "text/plain": [
       "0.99830335934849"
      ]
     },
     "execution_count": 24,
     "metadata": {
      "tags": []
     },
     "output_type": "execute_result"
    }
   ],
   "source": [
    "accuracy_score(y_test, y_pred)"
   ]
  },
  {
   "cell_type": "code",
   "execution_count": 0,
   "metadata": {
    "colab": {},
    "colab_type": "code",
    "id": "BIJnp1_8ikJU"
   },
   "outputs": [],
   "source": [
    "def static_data():\n",
    "    ''' this function breaks the train and test data on the basis of the static labels and stores them in files'''\n",
    "    c=0\n",
    "    k=0\n",
    "    static = []\n",
    "    sta = []\n",
    "    static_y = []\n",
    "    sta_y = []\n",
    "    for i in y_train:\n",
    "        if i==0:\n",
    "            static.append(X_train[c])\n",
    "            static_y.append(Y_train[c])\n",
    "        c+=1\n",
    "    for i in y_pred:\n",
    "        if i==0:\n",
    "            sta.append(X_test[k])\n",
    "            sta_y.append(Y_test[k])\n",
    "        k+=1\n",
    "    X_tr_st = np.array(static)\n",
    "    X_ts_st = np.array(sta)\n",
    "    Y_tr_st = np.array(static_y)\n",
    "    Y_ts_st = np.array(sta_y)\n",
    "\n",
    "    np.save('X_tr_st', X_tr_st)\n",
    "    np.save('Y_tr_st', Y_tr_st)\n",
    "    np.save('X_ts_st', X_ts_st)\n",
    "    np.save('Y_ts_st', Y_ts_st)\n",
    "    return X_tr_st, Y_tr_st, X_ts_st, Y_ts_st"
   ]
  },
  {
   "cell_type": "code",
   "execution_count": 0,
   "metadata": {
    "colab": {},
    "colab_type": "code",
    "id": "RZb2PCLSivph"
   },
   "outputs": [],
   "source": [
    "def dynamic_data():\n",
    "    ''' this function breaks the train and test data on the basis of the dynamic labels and stores them in files '''\n",
    "    c=0\n",
    "    k=0\n",
    "    dynamic=[]\n",
    "    dynamic_y= []\n",
    "    dyn=[]\n",
    "    dyn_y= []\n",
    "\n",
    "    for i in y_train:\n",
    "        if i==1:\n",
    "            dynamic.append(X_train[c])\n",
    "            dynamic_y.append(Y_train[c])\n",
    "        c+=1\n",
    "    for i in y_pred:\n",
    "        if i==1:\n",
    "            dyn.append(X_test[k])\n",
    "            dyn_y.append(Y_test[k])\n",
    "        k+=1\n",
    "    X_tr_dy = np.array(dynamic)\n",
    "    X_ts_dy = np.array(dyn)\n",
    "    Y_tr_dy = np.array(dynamic_y)\n",
    "    Y_ts_dy = np.array(dyn_y)\n",
    "\n",
    "    np.save('X_tr_dy', X_tr_dy)\n",
    "    np.save('Y_tr_dy', Y_tr_dy)\n",
    "    np.save('X_ts_dy', X_ts_dy)\n",
    "    np.save('Y_ts_dy', Y_ts_dy)\n",
    "    return X_tr_dy, Y_tr_dy, X_ts_dy, Y_ts_dy"
   ]
  },
  {
   "cell_type": "code",
   "execution_count": 0,
   "metadata": {
    "colab": {},
    "colab_type": "code",
    "id": "hmcm9TaUi4yL"
   },
   "outputs": [],
   "source": [
    "X_tr_st, Y_tr_st, X_ts_st, Y_ts_st= static_data()      #Calling the static and dynamic data with the functions \n",
    "X_tr_dy, Y_tr_dy, X_ts_dy, Y_ts_dy = dynamic_data()"
   ]
  },
  {
   "cell_type": "code",
   "execution_count": 0,
   "metadata": {
    "colab": {},
    "colab_type": "code",
    "id": "iuvSLHofi-Z-"
   },
   "outputs": [],
   "source": [
    "def load_static():\n",
    "    X_tr_st = np.load('X_tr_st.npy')                      #Function to load the data from the saved files\n",
    "    Y_tr_st = np.load('Y_tr_st.npy')\n",
    "    X_ts_st = np.load('X_ts_st.npy')\n",
    "    Y_ts_st = np.load('Y_ts_st.npy')\n",
    "\n",
    "    return X_tr_st, Y_tr_st, X_ts_st, Y_ts_st"
   ]
  },
  {
   "cell_type": "code",
   "execution_count": 0,
   "metadata": {
    "colab": {},
    "colab_type": "code",
    "id": "faGExFfljCwP"
   },
   "outputs": [],
   "source": [
    "def load_dynamic():\n",
    "    X_tr_dy = np.load('X_tr_dy.npy')                  #Function to load the data from the saved files\n",
    "    Y_tr_dy = np.load('Y_tr_dy.npy')\n",
    "    X_ts_dy = np.load('X_ts_dy.npy')\n",
    "    Y_ts_dy = np.load('Y_ts_dy.npy')\n",
    "\n",
    "    return X_tr_dy, Y_tr_dy, X_ts_dy, Y_ts_dy"
   ]
  },
  {
   "cell_type": "markdown",
   "metadata": {
    "colab_type": "text",
    "id": "lgchmjczjKbr"
   },
   "source": [
    "Now we build models separately on the static data and dynamic data with different structures."
   ]
  },
  {
   "cell_type": "code",
   "execution_count": 0,
   "metadata": {
    "colab": {},
    "colab_type": "code",
    "id": "ETlNgOXKjF-Z"
   },
   "outputs": [],
   "source": [
    "# model for dynamic activities\n",
    "def best_hyperparameters_dy(ker1,ker2,drp,neurons):\n",
    "\n",
    "    model = Sequential()\n",
    "    # Configuring the parameters\n",
    "    model.add(Conv1D(ker1, kernel_size=3, padding='same', input_shape=(128,9), activation='relu', kernel_initializer='glorot_normal', strides=1))\n",
    "    model.add(MaxPooling1D())\n",
    "    model.add(Dropout(drp))\n",
    "\n",
    "    model.add(Conv1D(ker2, kernel_size=2, padding='same',activation='relu', kernel_initializer='glorot_normal', strides=1 ))\n",
    "\n",
    "    model.add(Flatten())\n",
    "    model.add(Dense(neurons, kernel_initializer='glorot_normal', activation='relu'))\n",
    "    model.add(BatchNormalization())\n",
    "\n",
    "    model.add(Dense(n_classes, activation='sigmoid',kernel_initializer='glorot_normal'))\n",
    "\n",
    "    model.compile(loss='categorical_crossentropy', metrics=['accuracy'], optimizer='adam')\n",
    "    \n",
    "    return model\n"
   ]
  },
  {
   "cell_type": "code",
   "execution_count": 31,
   "metadata": {
    "colab": {
     "base_uri": "https://localhost:8080/",
     "height": 156
    },
    "colab_type": "code",
    "id": "kVcXmrr7jT8V",
    "outputId": "829916e0-377a-4db1-87d1-2714ec209f1b"
   },
   "outputs": [
    {
     "name": "stdout",
     "output_type": "stream",
     "text": [
      "WARNING:tensorflow:From /usr/local/lib/python3.6/dist-packages/keras/backend/tensorflow_backend.py:4070: The name tf.nn.max_pool is deprecated. Please use tf.nn.max_pool2d instead.\n",
      "\n",
      "WARNING:tensorflow:Large dropout rate: 0.6 (>0.5). In TensorFlow 2.x, dropout() uses dropout rate instead of keep_prob. Please ensure that this is intended.\n",
      "WARNING:tensorflow:Large dropout rate: 0.6 (>0.5). In TensorFlow 2.x, dropout() uses dropout rate instead of keep_prob. Please ensure that this is intended.\n",
      "WARNING:tensorflow:Large dropout rate: 0.6 (>0.5). In TensorFlow 2.x, dropout() uses dropout rate instead of keep_prob. Please ensure that this is intended.\n",
      "WARNING:tensorflow:Large dropout rate: 0.6 (>0.5). In TensorFlow 2.x, dropout() uses dropout rate instead of keep_prob. Please ensure that this is intended.\n",
      "WARNING:tensorflow:Large dropout rate: 0.6 (>0.5). In TensorFlow 2.x, dropout() uses dropout rate instead of keep_prob. Please ensure that this is intended.\n"
     ]
    }
   ],
   "source": [
    "ker1 = [30,35]\n",
    "ker2= [50,45]\n",
    "neurons = [40,45]\n",
    "drp = [0.5,0.6]\n",
    "from keras.wrappers.scikit_learn import KerasClassifier\n",
    "from sklearn.model_selection import GridSearchCV\n",
    "\n",
    "model = KerasClassifier(build_fn=best_hyperparameters_dy, epochs=10, batch_size=batch_size, verbose=0)\n",
    "param_grid = dict(ker1=ker1, ker2=ker2 ,neurons=neurons, drp=drp)\n",
    "\n",
    "grid = GridSearchCV(estimator=model, param_grid=param_grid)\n",
    "grid_result_dy = grid.fit(X_tr_dy, Y_tr_dy)"
   ]
  },
  {
   "cell_type": "code",
   "execution_count": 32,
   "metadata": {
    "colab": {
     "base_uri": "https://localhost:8080/",
     "height": 306
    },
    "colab_type": "code",
    "id": "2-ImRcSajYPi",
    "outputId": "cf346903-501b-410e-9aa4-033cce82b85c"
   },
   "outputs": [
    {
     "name": "stdout",
     "output_type": "stream",
     "text": [
      "Best: 0.948250 using {'drp': 0.5, 'ker1': 30, 'ker2': 50, 'neurons': 40}\n",
      "0.948250 (0.035304) with: {'drp': 0.5, 'ker1': 30, 'ker2': 50, 'neurons': 40}\n",
      "0.927854 (0.046820) with: {'drp': 0.5, 'ker1': 30, 'ker2': 50, 'neurons': 45}\n",
      "0.934855 (0.057914) with: {'drp': 0.5, 'ker1': 30, 'ker2': 45, 'neurons': 40}\n",
      "0.927549 (0.043656) with: {'drp': 0.5, 'ker1': 30, 'ker2': 45, 'neurons': 45}\n",
      "0.932725 (0.058961) with: {'drp': 0.5, 'ker1': 35, 'ker2': 50, 'neurons': 40}\n",
      "0.922374 (0.058863) with: {'drp': 0.5, 'ker1': 35, 'ker2': 50, 'neurons': 45}\n",
      "0.899239 (0.058803) with: {'drp': 0.5, 'ker1': 35, 'ker2': 45, 'neurons': 40}\n",
      "0.931202 (0.056978) with: {'drp': 0.5, 'ker1': 35, 'ker2': 45, 'neurons': 45}\n",
      "0.897412 (0.076083) with: {'drp': 0.6, 'ker1': 30, 'ker2': 50, 'neurons': 40}\n",
      "0.922983 (0.079057) with: {'drp': 0.6, 'ker1': 30, 'ker2': 50, 'neurons': 45}\n",
      "0.849011 (0.153164) with: {'drp': 0.6, 'ker1': 30, 'ker2': 45, 'neurons': 40}\n",
      "0.930289 (0.038402) with: {'drp': 0.6, 'ker1': 30, 'ker2': 45, 'neurons': 45}\n",
      "0.886149 (0.086238) with: {'drp': 0.6, 'ker1': 35, 'ker2': 50, 'neurons': 40}\n",
      "0.927549 (0.047244) with: {'drp': 0.6, 'ker1': 35, 'ker2': 50, 'neurons': 45}\n",
      "0.884323 (0.081524) with: {'drp': 0.6, 'ker1': 35, 'ker2': 45, 'neurons': 40}\n",
      "0.924505 (0.056432) with: {'drp': 0.6, 'ker1': 35, 'ker2': 45, 'neurons': 45}\n"
     ]
    }
   ],
   "source": [
    "print(\"Best: %f using %s\" % (grid_result_dy.best_score_, grid_result_dy.best_params_))\n",
    "means = grid_result_dy.cv_results_['mean_test_score']\n",
    "stds = grid_result_dy.cv_results_['std_test_score']\n",
    "params = grid_result_dy.cv_results_['params']\n",
    "for mean, stdev, param in zip(means, stds, params):\n",
    "    print(\"%f (%f) with: %r\" % (mean, stdev, param))"
   ]
  },
  {
   "cell_type": "code",
   "execution_count": 33,
   "metadata": {
    "colab": {
     "base_uri": "https://localhost:8080/",
     "height": 1000
    },
    "colab_type": "code",
    "id": "uJSlsYQTp0ve",
    "outputId": "186e2f08-ffae-4f0a-df20-8f8fd132a8d7"
   },
   "outputs": [
    {
     "name": "stdout",
     "output_type": "stream",
     "text": [
      "Train on 3285 samples, validate on 1390 samples\n",
      "Epoch 1/30\n",
      "3285/3285 [==============================] - 4s 1ms/step - loss: 1.5592 - accuracy: 0.4377 - val_loss: 1.5287 - val_accuracy: 0.6115\n",
      "Epoch 2/30\n",
      "3285/3285 [==============================] - 1s 399us/step - loss: 1.0502 - accuracy: 0.7452 - val_loss: 0.8860 - val_accuracy: 0.7727\n",
      "Epoch 3/30\n",
      "3285/3285 [==============================] - 1s 402us/step - loss: 0.5494 - accuracy: 0.9008 - val_loss: 0.5669 - val_accuracy: 0.8360\n",
      "Epoch 4/30\n",
      "3285/3285 [==============================] - 1s 398us/step - loss: 0.2317 - accuracy: 0.9562 - val_loss: 0.3103 - val_accuracy: 0.9115\n",
      "Epoch 5/30\n",
      "3285/3285 [==============================] - 1s 406us/step - loss: 0.1130 - accuracy: 0.9784 - val_loss: 0.1692 - val_accuracy: 0.9504\n",
      "Epoch 6/30\n",
      "3285/3285 [==============================] - 1s 403us/step - loss: 0.0735 - accuracy: 0.9842 - val_loss: 0.2980 - val_accuracy: 0.8928\n",
      "Epoch 7/30\n",
      "3285/3285 [==============================] - 1s 396us/step - loss: 0.0535 - accuracy: 0.9878 - val_loss: 0.1869 - val_accuracy: 0.9295\n",
      "Epoch 8/30\n",
      "3285/3285 [==============================] - 1s 387us/step - loss: 0.0397 - accuracy: 0.9921 - val_loss: 0.1213 - val_accuracy: 0.9619\n",
      "Epoch 9/30\n",
      "3285/3285 [==============================] - 1s 386us/step - loss: 0.0323 - accuracy: 0.9924 - val_loss: 0.1252 - val_accuracy: 0.9640\n",
      "Epoch 10/30\n",
      "3285/3285 [==============================] - 1s 390us/step - loss: 0.0262 - accuracy: 0.9924 - val_loss: 0.1509 - val_accuracy: 0.9468\n",
      "Epoch 11/30\n",
      "3285/3285 [==============================] - 1s 382us/step - loss: 0.0276 - accuracy: 0.9915 - val_loss: 0.1435 - val_accuracy: 0.9532\n",
      "Epoch 12/30\n",
      "3285/3285 [==============================] - 1s 386us/step - loss: 0.0192 - accuracy: 0.9954 - val_loss: 0.1297 - val_accuracy: 0.9626\n",
      "Epoch 13/30\n",
      "3285/3285 [==============================] - 1s 399us/step - loss: 0.0208 - accuracy: 0.9945 - val_loss: 0.0969 - val_accuracy: 0.9676\n",
      "Epoch 14/30\n",
      "3285/3285 [==============================] - 1s 386us/step - loss: 0.0257 - accuracy: 0.9912 - val_loss: 0.2242 - val_accuracy: 0.9360\n",
      "Epoch 15/30\n",
      "3285/3285 [==============================] - 1s 387us/step - loss: 0.0160 - accuracy: 0.9967 - val_loss: 0.1353 - val_accuracy: 0.9619\n",
      "Epoch 16/30\n",
      "3285/3285 [==============================] - 1s 402us/step - loss: 0.0116 - accuracy: 0.9963 - val_loss: 0.2061 - val_accuracy: 0.9374\n",
      "Epoch 17/30\n",
      "3285/3285 [==============================] - 1s 390us/step - loss: 0.0122 - accuracy: 0.9970 - val_loss: 0.1408 - val_accuracy: 0.9640\n",
      "Epoch 18/30\n",
      "3285/3285 [==============================] - 1s 402us/step - loss: 0.0169 - accuracy: 0.9939 - val_loss: 0.1675 - val_accuracy: 0.9518\n",
      "Epoch 19/30\n",
      "3285/3285 [==============================] - 1s 400us/step - loss: 0.0179 - accuracy: 0.9945 - val_loss: 0.2461 - val_accuracy: 0.9338\n",
      "Epoch 20/30\n",
      "3285/3285 [==============================] - 1s 398us/step - loss: 0.0158 - accuracy: 0.9957 - val_loss: 0.1870 - val_accuracy: 0.9511\n",
      "Epoch 21/30\n",
      "3285/3285 [==============================] - 1s 416us/step - loss: 0.0102 - accuracy: 0.9979 - val_loss: 0.1576 - val_accuracy: 0.9554\n",
      "Epoch 22/30\n",
      "3285/3285 [==============================] - 1s 395us/step - loss: 0.0065 - accuracy: 0.9988 - val_loss: 0.1783 - val_accuracy: 0.9496\n",
      "Epoch 23/30\n",
      "3285/3285 [==============================] - 1s 382us/step - loss: 0.0131 - accuracy: 0.9957 - val_loss: 0.2650 - val_accuracy: 0.9252\n",
      "Epoch 24/30\n",
      "3285/3285 [==============================] - 1s 388us/step - loss: 0.0074 - accuracy: 0.9985 - val_loss: 0.1343 - val_accuracy: 0.9597\n",
      "Epoch 25/30\n",
      "3285/3285 [==============================] - 1s 382us/step - loss: 0.0080 - accuracy: 0.9973 - val_loss: 0.2701 - val_accuracy: 0.9165\n",
      "Epoch 26/30\n",
      "3285/3285 [==============================] - 1s 391us/step - loss: 0.0139 - accuracy: 0.9942 - val_loss: 0.1966 - val_accuracy: 0.9532\n",
      "Epoch 27/30\n",
      "3285/3285 [==============================] - 1s 391us/step - loss: 0.0176 - accuracy: 0.9948 - val_loss: 0.1885 - val_accuracy: 0.9532\n",
      "Epoch 28/30\n",
      "3285/3285 [==============================] - 1s 386us/step - loss: 0.0132 - accuracy: 0.9957 - val_loss: 0.1610 - val_accuracy: 0.9633\n",
      "Epoch 29/30\n",
      "3285/3285 [==============================] - 1s 396us/step - loss: 0.0105 - accuracy: 0.9960 - val_loss: 0.1395 - val_accuracy: 0.9669\n",
      "Epoch 30/30\n",
      "3285/3285 [==============================] - 1s 389us/step - loss: 0.0129 - accuracy: 0.9957 - val_loss: 0.1227 - val_accuracy: 0.9676\n",
      "1390/1390 [==============================] - 0s 130us/step\n"
     ]
    },
    {
     "data": {
      "text/plain": [
       "[0.1227405796033538, 0.9676259160041809]"
      ]
     },
     "execution_count": 33,
     "metadata": {
      "tags": []
     },
     "output_type": "execute_result"
    }
   ],
   "source": [
    "model_dy= best_hyperparameters_dy(30,50,0.5,40)\n",
    "model_dy.fit(X_tr_dy, Y_tr_dy, epochs=30, batch_size=batch_size, validation_data= (X_ts_dy, Y_ts_dy))\n",
    "model_dy.evaluate(X_ts_dy,Y_ts_dy)"
   ]
  },
  {
   "cell_type": "code",
   "execution_count": 34,
   "metadata": {
    "colab": {
     "base_uri": "https://localhost:8080/",
     "height": 136
    },
    "colab_type": "code",
    "id": "Z9xC5gnmp5jP",
    "outputId": "354a8f14-d007-4f26-b61d-343450edf47f"
   },
   "outputs": [
    {
     "name": "stdout",
     "output_type": "stream",
     "text": [
      "Pred                WALKING  WALKING_DOWNSTAIRS  WALKING_UPSTAIRS\n",
      "True                                                             \n",
      "SITTING                   0                   1                 1\n",
      "STANDING                  1                   0                 1\n",
      "WALKING                 489                   6                 1\n",
      "WALKING_DOWNSTAIRS       14                 404                 1\n",
      "WALKING_UPSTAIRS          6                  13               452\n"
     ]
    }
   ],
   "source": [
    "# Confusion Matrix\n",
    "print(confusion_matrix(Y_ts_dy, model_dy.predict(X_ts_dy)))"
   ]
  },
  {
   "cell_type": "code",
   "execution_count": 0,
   "metadata": {
    "colab": {},
    "colab_type": "code",
    "id": "K2nOLb8XqS7Z"
   },
   "outputs": [],
   "source": [
    "#Model for the static activities\n",
    "def best_hyperparameters_st(k1,k2,drp,neurons):\n",
    "  \n",
    "    model = Sequential()\n",
    "    # Configuring the parameters\n",
    "    model.add(Conv1D(k1, kernel_size=2, padding='same', input_shape=(128,9), activation='relu', kernel_initializer='glorot_normal', strides=1))\n",
    "\n",
    "    model.add(Conv1D(k2, kernel_size=3, padding='same', activation='relu', kernel_initializer='glorot_normal', strides=1))\n",
    "    model.add(Dropout(drp))\n",
    "\n",
    "    model.add(Flatten())\n",
    "\n",
    "    model.add(Dense(neurons, kernel_initializer='glorot_normal', activation='relu'))\n",
    "    model.add(Dropout(drp))\n",
    "    model.add(BatchNormalization())\n",
    "\n",
    "    model.add(Dense(n_classes, activation='sigmoid',kernel_initializer='glorot_normal'))\n",
    "\n",
    "    model.compile(loss='categorical_crossentropy', metrics=['accuracy'], optimizer='adam')\n",
    "    \n",
    "    return model"
   ]
  },
  {
   "cell_type": "code",
   "execution_count": 0,
   "metadata": {
    "colab": {},
    "colab_type": "code",
    "id": "LlFTTVfDqaR9"
   },
   "outputs": [],
   "source": [
    "k1 = [40,32]\n",
    "k2= [40,45]\n",
    "neurons = [40,45]\n",
    "drp = [0.5,0.6]\n",
    "\n",
    "model = KerasClassifier(build_fn=best_hyperparameters_st, epochs=20, batch_size=batch_size, verbose=0)\n",
    "param_grid = dict(k1=k1, k2=k2 ,neurons=neurons, drp=drp)\n",
    "\n",
    "grid = GridSearchCV(estimator=model, param_grid=param_grid)\n",
    "grid_result_st = grid.fit(X_tr_st, Y_tr_st)"
   ]
  },
  {
   "cell_type": "code",
   "execution_count": 37,
   "metadata": {
    "colab": {
     "base_uri": "https://localhost:8080/",
     "height": 306
    },
    "colab_type": "code",
    "id": "E0mEkbOzqegv",
    "outputId": "cd98c686-e5e7-4180-9ecf-2b1753357a4c"
   },
   "outputs": [
    {
     "name": "stdout",
     "output_type": "stream",
     "text": [
      "Best: 0.894275 using {'drp': 0.6, 'k1': 40, 'k2': 40, 'neurons': 45}\n",
      "0.888371 (0.030247) with: {'drp': 0.5, 'k1': 40, 'k2': 40, 'neurons': 40}\n",
      "0.880996 (0.023360) with: {'drp': 0.5, 'k1': 40, 'k2': 40, 'neurons': 45}\n",
      "0.887884 (0.034688) with: {'drp': 0.5, 'k1': 40, 'k2': 45, 'neurons': 40}\n",
      "0.861562 (0.040644) with: {'drp': 0.5, 'k1': 40, 'k2': 45, 'neurons': 45}\n",
      "0.868947 (0.032568) with: {'drp': 0.5, 'k1': 32, 'k2': 40, 'neurons': 40}\n",
      "0.878035 (0.023374) with: {'drp': 0.5, 'k1': 32, 'k2': 40, 'neurons': 45}\n",
      "0.887384 (0.027393) with: {'drp': 0.5, 'k1': 32, 'k2': 45, 'neurons': 40}\n",
      "0.878284 (0.029147) with: {'drp': 0.5, 'k1': 32, 'k2': 45, 'neurons': 45}\n",
      "0.893290 (0.031109) with: {'drp': 0.6, 'k1': 40, 'k2': 40, 'neurons': 40}\n",
      "0.894275 (0.019189) with: {'drp': 0.6, 'k1': 40, 'k2': 40, 'neurons': 45}\n",
      "0.865744 (0.032084) with: {'drp': 0.6, 'k1': 40, 'k2': 45, 'neurons': 40}\n",
      "0.856891 (0.034861) with: {'drp': 0.6, 'k1': 40, 'k2': 45, 'neurons': 45}\n",
      "0.878787 (0.031900) with: {'drp': 0.6, 'k1': 32, 'k2': 40, 'neurons': 40}\n",
      "0.884194 (0.037641) with: {'drp': 0.6, 'k1': 32, 'k2': 40, 'neurons': 45}\n",
      "0.859841 (0.025149) with: {'drp': 0.6, 'k1': 32, 'k2': 45, 'neurons': 40}\n",
      "0.885435 (0.055490) with: {'drp': 0.6, 'k1': 32, 'k2': 45, 'neurons': 45}\n"
     ]
    }
   ],
   "source": [
    "print(\"Best: %f using %s\" % (grid_result_st.best_score_, grid_result_st.best_params_))\n",
    "means = grid_result_st.cv_results_['mean_test_score']\n",
    "stds = grid_result_st.cv_results_['std_test_score']\n",
    "params = grid_result_st.cv_results_['params']\n",
    "for mean, stdev, param in zip(means, stds, params):\n",
    "    print(\"%f (%f) with: %r\" % (mean, stdev, param))"
   ]
  },
  {
   "cell_type": "code",
   "execution_count": 41,
   "metadata": {
    "colab": {
     "base_uri": "https://localhost:8080/",
     "height": 1000
    },
    "colab_type": "code",
    "id": "iIub2AxQ9duy",
    "outputId": "684389d1-b60f-4c02-bfa8-2aa4d8f6f3d5"
   },
   "outputs": [
    {
     "name": "stdout",
     "output_type": "stream",
     "text": [
      "Train on 4067 samples, validate on 1557 samples\n",
      "Epoch 1/30\n",
      "4067/4067 [==============================] - 8s 2ms/step - loss: 1.0652 - accuracy: 0.7750 - val_loss: 0.5312 - val_accuracy: 0.8728\n",
      "Epoch 2/30\n",
      "4067/4067 [==============================] - 3s 822us/step - loss: 0.4644 - accuracy: 0.8768 - val_loss: 0.3419 - val_accuracy: 0.8632\n",
      "Epoch 3/30\n",
      "4067/4067 [==============================] - 3s 858us/step - loss: 0.3113 - accuracy: 0.8866 - val_loss: 0.3475 - val_accuracy: 0.8760\n",
      "Epoch 4/30\n",
      "4067/4067 [==============================] - 3s 852us/step - loss: 0.2997 - accuracy: 0.8832 - val_loss: 0.4714 - val_accuracy: 0.8195\n",
      "Epoch 5/30\n",
      "4067/4067 [==============================] - 4s 893us/step - loss: 0.2899 - accuracy: 0.8852 - val_loss: 0.2906 - val_accuracy: 0.8767\n",
      "Epoch 6/30\n",
      "4067/4067 [==============================] - 3s 850us/step - loss: 0.3096 - accuracy: 0.8807 - val_loss: 0.3499 - val_accuracy: 0.8677\n",
      "Epoch 7/30\n",
      "4067/4067 [==============================] - 3s 814us/step - loss: 0.2672 - accuracy: 0.8933 - val_loss: 0.3029 - val_accuracy: 0.8812\n",
      "Epoch 8/30\n",
      "4067/4067 [==============================] - 3s 811us/step - loss: 0.2650 - accuracy: 0.8930 - val_loss: 0.2950 - val_accuracy: 0.8895\n",
      "Epoch 9/30\n",
      "4067/4067 [==============================] - 3s 810us/step - loss: 0.2665 - accuracy: 0.8935 - val_loss: 0.3049 - val_accuracy: 0.8838\n",
      "Epoch 10/30\n",
      "4067/4067 [==============================] - 3s 815us/step - loss: 0.2488 - accuracy: 0.9034 - val_loss: 0.3378 - val_accuracy: 0.8683\n",
      "Epoch 11/30\n",
      "4067/4067 [==============================] - 3s 814us/step - loss: 0.2500 - accuracy: 0.9021 - val_loss: 0.3510 - val_accuracy: 0.8677\n",
      "Epoch 12/30\n",
      "4067/4067 [==============================] - 3s 819us/step - loss: 0.2635 - accuracy: 0.8891 - val_loss: 0.3291 - val_accuracy: 0.8690\n",
      "Epoch 13/30\n",
      "4067/4067 [==============================] - 3s 814us/step - loss: 0.2630 - accuracy: 0.8921 - val_loss: 0.2973 - val_accuracy: 0.8825\n",
      "Epoch 14/30\n",
      "4067/4067 [==============================] - 3s 807us/step - loss: 0.2462 - accuracy: 0.9029 - val_loss: 0.3213 - val_accuracy: 0.8850\n",
      "Epoch 15/30\n",
      "4067/4067 [==============================] - 3s 854us/step - loss: 0.2810 - accuracy: 0.8960 - val_loss: 0.2748 - val_accuracy: 0.8664\n",
      "Epoch 16/30\n",
      "4067/4067 [==============================] - 3s 821us/step - loss: 0.2497 - accuracy: 0.9012 - val_loss: 0.2943 - val_accuracy: 0.8735\n",
      "Epoch 17/30\n",
      "4067/4067 [==============================] - 3s 810us/step - loss: 0.2604 - accuracy: 0.8866 - val_loss: 0.3159 - val_accuracy: 0.8882\n",
      "Epoch 18/30\n",
      "4067/4067 [==============================] - 3s 813us/step - loss: 0.2570 - accuracy: 0.9002 - val_loss: 0.2936 - val_accuracy: 0.8889\n",
      "Epoch 19/30\n",
      "4067/4067 [==============================] - 4s 874us/step - loss: 0.2310 - accuracy: 0.9080 - val_loss: 0.3046 - val_accuracy: 0.8825\n",
      "Epoch 20/30\n",
      "4067/4067 [==============================] - 4s 868us/step - loss: 0.2464 - accuracy: 0.8982 - val_loss: 0.3018 - val_accuracy: 0.8760\n",
      "Epoch 21/30\n",
      "4067/4067 [==============================] - 3s 851us/step - loss: 0.2558 - accuracy: 0.8972 - val_loss: 0.3122 - val_accuracy: 0.8773\n",
      "Epoch 22/30\n",
      "4067/4067 [==============================] - 4s 863us/step - loss: 0.2556 - accuracy: 0.8994 - val_loss: 0.2823 - val_accuracy: 0.8870\n",
      "Epoch 23/30\n",
      "4067/4067 [==============================] - 3s 857us/step - loss: 0.2599 - accuracy: 0.8999 - val_loss: 0.2963 - val_accuracy: 0.8895\n",
      "Epoch 24/30\n",
      "4067/4067 [==============================] - 3s 845us/step - loss: 0.2377 - accuracy: 0.9061 - val_loss: 0.2989 - val_accuracy: 0.8908\n",
      "Epoch 25/30\n",
      "4067/4067 [==============================] - 4s 901us/step - loss: 0.2649 - accuracy: 0.8962 - val_loss: 0.4479 - val_accuracy: 0.8497\n",
      "Epoch 26/30\n",
      "4067/4067 [==============================] - 3s 854us/step - loss: 0.2652 - accuracy: 0.8906 - val_loss: 0.3240 - val_accuracy: 0.8696\n",
      "Epoch 27/30\n",
      "4067/4067 [==============================] - 4s 862us/step - loss: 0.2609 - accuracy: 0.8921 - val_loss: 0.2929 - val_accuracy: 0.8889\n",
      "Epoch 28/30\n",
      "4067/4067 [==============================] - 3s 848us/step - loss: 0.2646 - accuracy: 0.8891 - val_loss: 0.2662 - val_accuracy: 0.8902\n",
      "Epoch 29/30\n",
      "4067/4067 [==============================] - 3s 847us/step - loss: 0.2505 - accuracy: 0.8992 - val_loss: 0.2767 - val_accuracy: 0.8786\n",
      "Epoch 30/30\n",
      "4067/4067 [==============================] - 3s 844us/step - loss: 0.2492 - accuracy: 0.9036 - val_loss: 0.2652 - val_accuracy: 0.8805\n",
      "1557/1557 [==============================] - 0s 178us/step\n"
     ]
    },
    {
     "data": {
      "text/plain": [
       "[0.2652171851347499, 0.8805394768714905]"
      ]
     },
     "execution_count": 41,
     "metadata": {
      "tags": []
     },
     "output_type": "execute_result"
    }
   ],
   "source": [
    "model_static= best_hyperparameters_st(40,45,0.6,40)\n",
    "model_static.fit(X_tr_st, Y_tr_st, epochs=30, batch_size=16, validation_data= (X_ts_st, Y_ts_st))\n",
    "model_static.evaluate(X_ts_st,Y_ts_st)"
   ]
  },
  {
   "cell_type": "code",
   "execution_count": 42,
   "metadata": {
    "colab": {
     "base_uri": "https://localhost:8080/",
     "height": 119
    },
    "colab_type": "code",
    "id": "Aco_zHQ09eCG",
    "outputId": "fc057db1-be34-4e32-fe4a-a9a84d3b779b"
   },
   "outputs": [
    {
     "name": "stdout",
     "output_type": "stream",
     "text": [
      "Pred                LAYING  SITTING  STANDING\n",
      "True                                         \n",
      "LAYING                 536        0         1\n",
      "SITTING                  0      388       101\n",
      "STANDING                 0       83       447\n",
      "WALKING_DOWNSTAIRS       0        0         1\n"
     ]
    }
   ],
   "source": [
    "# Confusion Matrix\n",
    "print(confusion_matrix(Y_ts_st, model_static.predict(X_ts_st)))"
   ]
  },
  {
   "cell_type": "code",
   "execution_count": 43,
   "metadata": {
    "colab": {
     "base_uri": "https://localhost:8080/",
     "height": 34
    },
    "colab_type": "code",
    "id": "utYHvKi898Nj",
    "outputId": "f6a2d3e2-6841-489f-c37a-33cebee63227"
   },
   "outputs": [
    {
     "name": "stdout",
     "output_type": "stream",
     "text": [
      "Mean accuracy over the static and dynamic data is: 92.405\n"
     ]
    }
   ],
   "source": [
    "print('Mean accuracy over the static and dynamic data is:',np.add(96.76, 88.05 )/2.0)"
   ]
  },
  {
   "cell_type": "markdown",
   "metadata": {
    "colab_type": "text",
    "id": "hZ2ai86Q92Wx"
   },
   "source": [
    "So we want a better accuracy using the same data building more complex models. So we use Divide and conquer method to build better models. We break our data into static and dynamic activity data using an LSTM model.As now we have separate statc and dynamic activity data we build independent models on these data using Conv1D and note the accuracy obtained . Using this method we land up having a better accuracy than just using LSTM model alone."
   ]
  },
  {
   "cell_type": "code",
   "execution_count": 45,
   "metadata": {
    "colab": {
     "base_uri": "https://localhost:8080/",
     "height": 255
    },
    "colab_type": "code",
    "id": "a4I3udzL9eFN",
    "outputId": "ecb4f688-9ded-422b-b1d5-8922fe1fc4c7"
   },
   "outputs": [
    {
     "name": "stdout",
     "output_type": "stream",
     "text": [
      "+------------------------------+----------+\n",
      "|            Model             | Accuracy |\n",
      "+------------------------------+----------+\n",
      "|     Logistic Regression      |  96.27   |\n",
      "|          Linear SVC          |  96.61   |\n",
      "|           RBF SVM            |  96.27   |\n",
      "|        Decision Tree         |  86.43   |\n",
      "|         RandomForest         |  91.31   |\n",
      "|       Gradient Boosted       |  91.31   |\n",
      "|             LSTM             |  90.19   |\n",
      "| Divide and Conquer (Static)  |  88.05   |\n",
      "| Divide and Conquer (Dynamic) |   96.7   |\n",
      "|    Divide and Conquer avg    |  92.05   |\n",
      "+------------------------------+----------+\n"
     ]
    }
   ],
   "source": [
    "from prettytable import PrettyTable\n",
    "x= PrettyTable(['Model','Accuracy'])\n",
    "x.add_row(['Logistic Regression',96.27])\n",
    "x.add_row(['Linear SVC',96.61])\n",
    "x.add_row(['RBF SVM',96.27])\n",
    "x.add_row(['Decision Tree',86.43])\n",
    "x.add_row(['RandomForest',91.31])\n",
    "x.add_row(['Gradient Boosted',91.31])\n",
    "x.add_row(['LSTM',90.19])\n",
    "x.add_row(['Divide and Conquer (Static)',88.05])\n",
    "x.add_row(['Divide and Conquer (Dynamic)',96.70])\n",
    "x.add_row(['Divide and Conquer avg',92.05])\n",
    "print(x)"
   ]
  },
  {
   "cell_type": "code",
   "execution_count": 0,
   "metadata": {
    "colab": {},
    "colab_type": "code",
    "id": "Gx6iTkqx9eK2"
   },
   "outputs": [],
   "source": []
  },
  {
   "cell_type": "code",
   "execution_count": 0,
   "metadata": {
    "colab": {},
    "colab_type": "code",
    "id": "4gfM4Y-k9eRF"
   },
   "outputs": [],
   "source": []
  },
  {
   "cell_type": "code",
   "execution_count": 0,
   "metadata": {
    "colab": {},
    "colab_type": "code",
    "id": "tPXjOReY9eWq"
   },
   "outputs": [],
   "source": []
  },
  {
   "cell_type": "code",
   "execution_count": 0,
   "metadata": {
    "colab": {},
    "colab_type": "code",
    "id": "iLzSkCcK9ecn"
   },
   "outputs": [],
   "source": []
  },
  {
   "cell_type": "code",
   "execution_count": 0,
   "metadata": {
    "colab": {},
    "colab_type": "code",
    "id": "zDIAVbax9emM"
   },
   "outputs": [],
   "source": []
  },
  {
   "cell_type": "code",
   "execution_count": 0,
   "metadata": {
    "colab": {},
    "colab_type": "code",
    "id": "jbCH1_rE9erb"
   },
   "outputs": [],
   "source": []
  },
  {
   "cell_type": "code",
   "execution_count": 0,
   "metadata": {
    "colab": {},
    "colab_type": "code",
    "id": "20N2ZOtU9epb"
   },
   "outputs": [],
   "source": []
  },
  {
   "cell_type": "code",
   "execution_count": 0,
   "metadata": {
    "colab": {},
    "colab_type": "code",
    "id": "gUKfbt079eZ3"
   },
   "outputs": [],
   "source": []
  },
  {
   "cell_type": "code",
   "execution_count": 0,
   "metadata": {
    "colab": {},
    "colab_type": "code",
    "id": "WC_ZUTth9eUZ"
   },
   "outputs": [],
   "source": []
  },
  {
   "cell_type": "code",
   "execution_count": 0,
   "metadata": {
    "colab": {},
    "colab_type": "code",
    "id": "hN_LJUBP9eP0"
   },
   "outputs": [],
   "source": []
  },
  {
   "cell_type": "code",
   "execution_count": 0,
   "metadata": {
    "colab": {},
    "colab_type": "code",
    "id": "97b9WnAW9eIz"
   },
   "outputs": [],
   "source": []
  },
  {
   "cell_type": "code",
   "execution_count": 0,
   "metadata": {
    "colab": {},
    "colab_type": "code",
    "id": "GTzYEfNZ9d-w"
   },
   "outputs": [],
   "source": []
  }
 ],
 "metadata": {
  "accelerator": "GPU",
  "colab": {
   "name": "HAR_SPS",
   "provenance": []
  },
  "kernelspec": {
   "display_name": "Python 3",
   "language": "python",
   "name": "python3"
  },
  "language_info": {
   "codemirror_mode": {
    "name": "ipython",
    "version": 3
   },
   "file_extension": ".py",
   "mimetype": "text/x-python",
   "name": "python",
   "nbconvert_exporter": "python",
   "pygments_lexer": "ipython3",
   "version": "3.7.4"
  }
 },
 "nbformat": 4,
 "nbformat_minor": 1
}
